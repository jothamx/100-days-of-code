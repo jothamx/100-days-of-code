{
 "nbformat": 4,
 "nbformat_minor": 2,
 "metadata": {
  "language_info": {
   "name": "python",
   "codemirror_mode": {
    "name": "ipython",
    "version": 3
   },
   "version": "3.7.6-final"
  },
  "orig_nbformat": 2,
  "file_extension": ".py",
  "mimetype": "text/x-python",
  "name": "python",
  "npconvert_exporter": "python",
  "pygments_lexer": "ipython3",
  "version": 3,
  "kernelspec": {
   "name": "python3",
   "display_name": "Python 3"
  }
 },
 "cells": [
  {
   "cell_type": "markdown",
   "metadata": {},
   "source": [
    "### 字典和集合\n",
    "字典的几种创建方法"
   ],
   "execution_count": null,
   "outputs": []
  },
  {
   "cell_type": "code",
   "execution_count": 1,
   "metadata": {},
   "outputs": [
    {
     "output_type": "execute_result",
     "data": {
      "text/plain": "True"
     },
     "metadata": {},
     "execution_count": 1
    }
   ],
   "source": [
    "d1 = {'name': 'jason', 'age': 20, 'gender': 'male'}\n",
    "d2 = dict({'name': 'jason', 'age': 20, 'gender': 'male'})\n",
    "d3 = dict([('name', 'jason'), ('age', 20), ('gender', 'male')])\n",
    "d4 = dict(name='jason', age=20, gender='male')\n",
    "d1==d2==d3==d4"
   ]
  },
  {
   "cell_type": "markdown",
   "metadata": {},
   "source": [
    "集合的创建方法"
   ],
   "execution_count": null,
   "outputs": []
  },
  {
   "cell_type": "code",
   "execution_count": 2,
   "metadata": {},
   "outputs": [
    {
     "output_type": "execute_result",
     "data": {
      "text/plain": "True"
     },
     "metadata": {},
     "execution_count": 2
    }
   ],
   "source": [
    "s1 = {1, 2, 3}\n",
    "s2 = set([1, 2, 3])\n",
    "s1 == s2"
   ]
  },
  {
   "cell_type": "markdown",
   "metadata": {},
   "source": [
    "想要判断一个元素在不在字典或集合内，我们可以用 value in dict/set 来判断"
   ],
   "execution_count": null,
   "outputs": []
  },
  {
   "cell_type": "code",
   "execution_count": 3,
   "metadata": {},
   "outputs": [
    {
     "output_type": "stream",
     "name": "stdout",
     "text": "True\nFalse\nTrue\nFalse\n"
    }
   ],
   "source": [
    "s = {1, 2, 3}\n",
    "print(1 in s)\n",
    "print(10 in s)\n",
    "\n",
    "d = {'name': 'jason', 'age': 20}\n",
    "print('name' in d)\n",
    "print('location' in d)"
   ]
  },
  {
   "cell_type": "markdown",
   "metadata": {},
   "source": [
    "字典和集合也同样支持增加、删除、更新等操作"
   ],
   "execution_count": null,
   "outputs": []
  },
  {
   "cell_type": "code",
   "execution_count": 4,
   "metadata": {},
   "outputs": [
    {
     "output_type": "stream",
     "name": "stdout",
     "text": "{'name': 'jason', 'age': 20, 'gender': 'male', 'dob': '1999-02-01'}\n1998-01-01\n{'name': 'jason', 'age': 20, 'gender': 'male'}\n{1, 2, 3, 4}\n{1, 2, 3}\n"
    }
   ],
   "source": [
    "d = {'name': 'jason', 'age': 20}\n",
    "d['gender'] = 'male' # 增加元素对'gender': 'male'\n",
    "d['dob'] = '1999-02-01' # 增加元素对'dob': '1999-02-01'\n",
    "print(d)\n",
    "\n",
    "d['dob'] = '1998-01-01' # 更新键'dob'对应的值 \n",
    "print(d.pop('dob')) # 删除键为'dob'的元素对\n",
    "print(d)\n",
    "\n",
    "s = {1, 2, 3}\n",
    "s.add(4) # 增加元素4到集合\n",
    "print(s)\n",
    "s.remove(4) # 从集合中删除元素4\n",
    "print(s)"
   ]
  },
  {
   "cell_type": "markdown",
   "metadata": {},
   "source": [
    "字典和集合内部组成是一张哈希表，只需 O(1) 的时间复杂度就可以完成查找"
   ],
   "execution_count": null,
   "outputs": []
  },
  {
   "cell_type": "code",
   "execution_count": 5,
   "metadata": {},
   "outputs": [
    {
     "output_type": "stream",
     "name": "stdout",
     "text": "260 ns ± 21 ns per loop (mean ± std. dev. of 7 runs, 1000000 loops each)\n77 ns ± 2.89 ns per loop (mean ± std. dev. of 7 runs, 10000000 loops each)\n"
    }
   ],
   "source": [
    "\n",
    "def find_product_price(products, product_id):\n",
    "    for id, price in products:\n",
    "        if id == product_id:\n",
    "            return price\n",
    "    return None \n",
    "     \n",
    "products_list = [\n",
    "    (143121312, 100), \n",
    "    (432314553, 30),\n",
    "    (32421912367, 150) \n",
    "]\n",
    "\n",
    "\n",
    "products_dict = {\n",
    "  143121312: 100,\n",
    "  432314553: 30,\n",
    "  32421912367: 150\n",
    "}\n",
    "\n",
    "%timeit find_product_price(products_list, 432314553)\n",
    "%timeit products_dict[432314553]\n",
    ""
   ]
  }
 ]
}