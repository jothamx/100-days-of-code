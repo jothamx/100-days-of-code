{
 "nbformat": 4,
 "nbformat_minor": 2,
 "metadata": {
  "language_info": {
   "name": "python",
   "codemirror_mode": {
    "name": "ipython",
    "version": 3
   },
   "version": "3.7.6-final"
  },
  "orig_nbformat": 2,
  "file_extension": ".py",
  "mimetype": "text/x-python",
  "name": "python",
  "npconvert_exporter": "python",
  "pygments_lexer": "ipython3",
  "version": 3,
  "kernelspec": {
   "name": "python3",
   "display_name": "Python 3"
  }
 },
 "cells": [
  {
   "cell_type": "markdown",
   "metadata": {},
   "source": [
    "### 高阶函数"
   ],
   "execution_count": null,
   "outputs": []
  },
  {
   "cell_type": "markdown",
   "metadata": {},
   "source": [
    "map(function, iterable) 函数，对 iterable 中的每个元素，都运用 function 这个函数，最后返回一个新的可遍历的集合。"
   ],
   "execution_count": null,
   "outputs": []
  },
  {
   "cell_type": "code",
   "execution_count": 1,
   "metadata": {},
   "outputs": [],
   "source": [
    "l = [1, 2, 3, 4, 5]\n",
    "new_list = map(lambda x: x * 2, l) # [2， 4， 6， 8， 10]"
   ]
  },
  {
   "cell_type": "markdown",
   "metadata": {},
   "source": [
    "reduce(function, iterable) 函数，对 iterable 中的每个元素，都使用 function 判断，并返回 True 或者 False，最后将返回 True 的元素组成一个新的可遍历的集合"
   ],
   "execution_count": null,
   "outputs": []
  },
  {
   "cell_type": "code",
   "execution_count": 2,
   "metadata": {},
   "outputs": [],
   "source": [
    "from functools import reduce\n",
    "l = [1, 2, 3, 4, 5]\n",
    "product = reduce(lambda x, y: x * y, l) # 1*2*3*4*5 = 120"
   ]
  },
  {
   "cell_type": "markdown",
   "metadata": {},
   "source": [
    "filter(function, iterable) 函数，它通常用来对一个集合做一些累积操作。"
   ],
   "execution_count": null,
   "outputs": []
  },
  {
   "cell_type": "code",
   "execution_count": 3,
   "metadata": {},
   "outputs": [],
   "source": [
    "l = [1, 2, 3, 4, 5]\n",
    "new_list = filter(lambda x: x % 2 == 0, l) # [2, 4]"
   ]
  },
  {
   "cell_type": "markdown",
   "metadata": {},
   "source": [
    "sorted()函数也是一个高阶函数，它还可以接收一个key函数来实现自定义的排序"
   ],
   "execution_count": null,
   "outputs": []
  },
  {
   "cell_type": "code",
   "execution_count": 4,
   "metadata": {},
   "outputs": [
    {
     "output_type": "execute_result",
     "data": {
      "text/plain": "['Zoo', 'Credit', 'bob', 'about']"
     },
     "metadata": {},
     "execution_count": 4
    }
   ],
   "source": [
    "sorted(['bob', 'about', 'Zoo', 'Credit'], key=str.lower, reverse=True)"
   ]
  },
  {
   "cell_type": "markdown",
   "metadata": {},
   "source": [
    "### 高阶函数效率\n",
    "map函数，列表生成式，列表append速度对比，map函数速度最快，因为map() 函数直接由 C 语言写的，运行时不需要通过 Python 解释器间接调用，并且内部做了诸多优化，所以运行速度最快。由此可见使用高阶函数运行效率会更高。"
   ],
   "execution_count": null,
   "outputs": []
  },
  {
   "cell_type": "code",
   "execution_count": 5,
   "metadata": {},
   "outputs": [
    {
     "output_type": "stream",
     "name": "stdout",
     "text": "429 ns ± 61.8 ns per loop (mean ± std. dev. of 7 runs, 1000000 loops each)\n246 ms ± 44.2 ms per loop (mean ± std. dev. of 7 runs, 1 loop each)\n283 ms ± 47.4 ms per loop (mean ± std. dev. of 7 runs, 1 loop each)\n"
    }
   ],
   "source": [
    "xs=range(1000000)\n",
    "%timeit  map(lambda x: x*2, xs)\n",
    "xs=range(1000000)\n",
    "%timeit [x * 2 for x in xs]\n",
    "xs=range(1000000)\n",
    "l = []\n",
    "%timeit for i in xs: l.append(i * 2)\n",
    ""
   ]
  },
  {
   "cell_type": "markdown",
   "metadata": {},
   "source": [
    "### 闭包\n",
    "返回闭包时牢记一点：返回函数不要引用任何循环变量，或者后续会发生变化的变量。\n"
   ],
   "execution_count": null,
   "outputs": []
  },
  {
   "cell_type": "code",
   "execution_count": 6,
   "metadata": {},
   "outputs": [
    {
     "output_type": "stream",
     "name": "stdout",
     "text": "9\n9\n9\n"
    }
   ],
   "source": [
    "def count():\n",
    "    fs = []\n",
    "    for i in range(1, 4):\n",
    "        def f():\n",
    "             return i*i\n",
    "        fs.append(f)\n",
    "    return fs\n",
    "\n",
    "f1, f2, f3 = count()#期待结果1，4，9\n",
    "print(f1())\n",
    "print(f2())\n",
    "print(f3())"
   ]
  },
  {
   "cell_type": "code",
   "execution_count": 7,
   "metadata": {},
   "outputs": [
    {
     "output_type": "stream",
     "name": "stdout",
     "text": "1\n4\n9\n"
    }
   ],
   "source": [
    "def count():\n",
    "    def f(j):\n",
    "        def g():\n",
    "            return j*j\n",
    "        return g\n",
    "    fs = []\n",
    "    for i in range(1, 4):\n",
    "        fs.append(f(i))\n",
    "    return fs\n",
    "\n",
    "f1, f2, f3 = count()#期待结果1，4，9\n",
    "print(f1())\n",
    "print(f2())\n",
    "print(f3())"
   ]
  },
  {
   "cell_type": "markdown",
   "metadata": {},
   "source": [
    "#### 闭包练习：\n",
    "利用闭包返回一个计数器函数，每次调用它返回递增整数："
   ],
   "execution_count": null,
   "outputs": []
  },
  {
   "cell_type": "code",
   "execution_count": 8,
   "metadata": {},
   "outputs": [
    {
     "output_type": "stream",
     "name": "stdout",
     "text": "1 2 3 4 5\n测试通过!\n"
    }
   ],
   "source": [
    "def createCounter():\n",
    "    n = 0\n",
    "    def counter():\n",
    "        nonlocal n\n",
    "        n += 1\n",
    "        return n\n",
    "    return counter\n",
    "\n",
    "# 测试:\n",
    "counterA = createCounter()\n",
    "print(counterA(), counterA(), counterA(), counterA(), counterA()) # 1 2 3 4 5\n",
    "counterB = createCounter()\n",
    "if [counterB(), counterB(), counterB(), counterB()] == [1, 2, 3, 4]:\n",
    "    print('测试通过!')\n",
    "else:\n",
    "    print('测试失败!')"
   ]
  },
  {
   "cell_type": "markdown",
   "metadata": {},
   "source": [
    "### 装饰器\n",
    "装饰器返回的```func.__name__```为'wrapper',需要使用```@functools.wraps(func)```处理下，相当于```wrapper.__name__ = func.__name__```"
   ],
   "execution_count": null,
   "outputs": []
  },
  {
   "cell_type": "code",
   "execution_count": 9,
   "metadata": {},
   "outputs": [
    {
     "output_type": "stream",
     "name": "stdout",
     "text": "call now\n2019-04-13\n"
    }
   ],
   "source": [
    "import functools\n",
    "def log(func):\n",
    "    @functools.wraps(func)\n",
    "    def wrapper(*args,**kw):\n",
    "        print(\"call %s\"%func.__name__)\n",
    "        return func(*args,**kw)\n",
    "    return wrapper\n",
    "\n",
    "@log\n",
    "def now():\n",
    "    print('2019-04-13')\n",
    "now()"
   ]
  },
  {
   "cell_type": "code",
   "execution_count": 10,
   "metadata": {},
   "outputs": [
    {
     "output_type": "stream",
     "name": "stdout",
     "text": "execute now\n2019-04-13\n"
    }
   ],
   "source": [
    "import functools\n",
    "def log(text):\n",
    "    def decorator(func):\n",
    "        @functools.wraps(func)\n",
    "        def wrapper(*args,**kw):\n",
    "            print(\"%s %s\"%(text,func.__name__))\n",
    "            return func(*args,**kw)\n",
    "        return wrapper\n",
    "    return decorator\n",
    "\n",
    "@log(\"execute\")\n",
    "def now():\n",
    "    print(\"2019-04-13\")\n",
    "now()"
   ]
  }
 ]
}